{
 "cells": [
  {
   "cell_type": "code",
   "execution_count": 1,
   "metadata": {},
   "outputs": [
    {
     "name": "stderr",
     "output_type": "stream",
     "text": [
      "C:\\Users\\falcon4842\\Anaconda3\\lib\\site-packages\\h5py\\__init__.py:34: FutureWarning: Conversion of the second argument of issubdtype from `float` to `np.floating` is deprecated. In future, it will be treated as `np.float64 == np.dtype(float).type`.\n",
      "  from ._conv import register_converters as _register_converters\n"
     ]
    }
   ],
   "source": [
    "import numpy as np\n",
    "import matplotlib.pyplot as plt\n",
    "import pandas as pd\n",
    "% matplotlib inline\n",
    "import cv2\n",
    "import chainer\n",
    "import chainer.functions as F           # パラメータを含まない関数を収録したパッケージ\n",
    "import chainer.links as L               # パラメータを含む関数を収録したパッケージ\n",
    "from chainer import computational_graph # グラフを出力するパッケージ\n",
    "from chainer import serializers    \n",
    "from chainer.datasets import tuple_dataset, TransformDataset\n",
    "from chainer.training import extensions\n",
    "from chainer import optimizers, serializers, training, iterators\n"
   ]
  },
  {
   "cell_type": "code",
   "execution_count": 2,
   "metadata": {
    "collapsed": true
   },
   "outputs": [],
   "source": [
    "#読み込み\n",
    "train_ = pd.read_csv('train.csv/train.csv')\n",
    "test_ = pd.read_csv('test.csv/test.csv')"
   ]
  },
  {
   "cell_type": "code",
   "execution_count": 3,
   "metadata": {
    "collapsed": true
   },
   "outputs": [],
   "source": [
    "images=[]\n",
    "\n",
    "for i in range(1, 1585):\n",
    "    #%に入る\n",
    "    image = cv2.imread('images2/%d.jpg'%i)\n",
    "    grayed = cv2.cvtColor(image, cv2.COLOR_BGR2GRAY)\n",
    "    images.append(grayed)"
   ]
  },
  {
   "cell_type": "code",
   "execution_count": 4,
   "metadata": {},
   "outputs": [
    {
     "data": {
      "text/plain": [
       "1584"
      ]
     },
     "execution_count": 4,
     "metadata": {},
     "output_type": "execute_result"
    }
   ],
   "source": [
    "len(images)"
   ]
  },
  {
   "cell_type": "code",
   "execution_count": 5,
   "metadata": {
    "collapsed": true
   },
   "outputs": [],
   "source": [
    "def resize_image(img):\n",
    "    end_size = 32\n",
    "    max_ = np.maximum(img.shape[0], img.shape[1])\n",
    "    scale = end_size / max_\n",
    "    height, width = img.shape\n",
    "    size = (int(width*scale), int(height*scale))\n",
    "\n",
    "    rescale_image = cv2.resize(img, size, interpolation=cv2.INTER_CUBIC)\n",
    "\n",
    "    height, width = rescale_image.shape\n",
    "\n",
    "    if width > height:\n",
    "        z_pad = np.zeros([int((width-height)/2), width], dtype=np.uint8)\n",
    "        end_image = np.vstack((z_pad, rescale_image, z_pad))\n",
    "    else:\n",
    "        z_pad = np.zeros([height, int((height - width)/2)], dtype=np.uint8)\n",
    "        end_image = np.hstack((z_pad, rescale_image, z_pad))\n",
    "\n",
    "    end_image = cv2.resize(end_image, (end_size, end_size))\n",
    "\n",
    "    return end_image\n",
    "\n",
    "for i, img in enumerate(images):\n",
    "    cv2.imwrite(\"images3/%d.jpg\"%(i+1), resize_image(img))"
   ]
  },
  {
   "cell_type": "code",
   "execution_count": 6,
   "metadata": {},
   "outputs": [
    {
     "name": "stdout",
     "output_type": "stream",
     "text": [
      "990\n"
     ]
    },
    {
     "data": {
      "text/plain": [
       "0              Acer_Opalus\n",
       "1    Pterocarya_Stenoptera\n",
       "2     Quercus_Hartwissiana\n",
       "3          Tilia_Tomentosa\n",
       "4       Quercus_Variabilis\n",
       "Name: species, dtype: object"
      ]
     },
     "execution_count": 6,
     "metadata": {},
     "output_type": "execute_result"
    }
   ],
   "source": [
    "#train_データのラベル\n",
    "labels = train_['species']\n",
    "print(len(labels))\n",
    "labels.head()"
   ]
  },
  {
   "cell_type": "code",
   "execution_count": 7,
   "metadata": {
    "collapsed": true
   },
   "outputs": [],
   "source": [
    "#32*32の画像データをtrain_データのみリストに格納する\n",
    "resized_images = []\n",
    "for i in train_.id:\n",
    "    image = cv2.imread('images3/%d.jpg' % i)\n",
    "    grayed = cv2.cvtColor(image, cv2.COLOR_BGR2GRAY)\n",
    "    resized_images.append(grayed)\n"
   ]
  },
  {
   "cell_type": "code",
   "execution_count": 8,
   "metadata": {},
   "outputs": [
    {
     "name": "stdout",
     "output_type": "stream",
     "text": [
      "990\n"
     ]
    }
   ],
   "source": [
    "#resized_imagesの大きさを確認\n",
    "print(len(resized_images))"
   ]
  },
  {
   "cell_type": "code",
   "execution_count": 9,
   "metadata": {
    "collapsed": true
   },
   "outputs": [],
   "source": [
    "#numpyのarrayに変換し、chainerが扱える型にしておく\n",
    "resized_images = np.array(resized_images).astype(np.float32)"
   ]
  },
  {
   "cell_type": "code",
   "execution_count": 10,
   "metadata": {},
   "outputs": [
    {
     "name": "stdout",
     "output_type": "stream",
     "text": [
      "(990, 32, 32)\n"
     ]
    }
   ],
   "source": [
    "#大きさを確認\n",
    "print(resized_images.shape)"
   ]
  },
  {
   "cell_type": "code",
   "execution_count": 11,
   "metadata": {},
   "outputs": [
    {
     "name": "stdout",
     "output_type": "stream",
     "text": [
      "(990, 32, 32, 1)\n"
     ]
    }
   ],
   "source": [
    "#大きさを(990, 1, 32, 32)に変換\n",
    "resized_images = np.reshape(resized_images, (990, 32, 32, 1))\n",
    "#大きさが変わったことを確認\n",
    "print(resized_images.shape)"
   ]
  },
  {
   "cell_type": "code",
   "execution_count": 12,
   "metadata": {},
   "outputs": [
    {
     "data": {
      "text/plain": [
       "(32, 32, 1)"
      ]
     },
     "execution_count": 12,
     "metadata": {},
     "output_type": "execute_result"
    }
   ],
   "source": [
    "resized_images[0].shape "
   ]
  },
  {
   "cell_type": "code",
   "execution_count": 13,
   "metadata": {},
   "outputs": [
    {
     "data": {
      "text/plain": [
       "(990,)"
      ]
     },
     "execution_count": 13,
     "metadata": {},
     "output_type": "execute_result"
    }
   ],
   "source": [
    "#labelのエンコードを行う。\n",
    "from sklearn import preprocessing\n",
    "le = preprocessing.LabelEncoder()\n",
    "le.fit(labels)\n",
    "labels = le.transform(labels)\n",
    "labels = labels.astype(np.int32)\n",
    "labels.shape"
   ]
  },
  {
   "cell_type": "code",
   "execution_count": 14,
   "metadata": {
    "collapsed": true
   },
   "outputs": [],
   "source": [
    "#tain_の900のデータで閾値を600としてそれより前は訓練データに、後は検証データにする。訓練データと検証データをわけてから画像の水増しをするので\n",
    "#leakageの心配はない\n",
    "threshold = 600"
   ]
  },
  {
   "cell_type": "code",
   "execution_count": 15,
   "metadata": {
    "collapsed": true
   },
   "outputs": [],
   "source": [
    "#左右反転させるメソッド\n",
    "def transform_1(images, labels,image_add_list, label_add_list):\n",
    "    for img, lbl in zip(images, labels):\n",
    "        x, t = img, lbl\n",
    "        flipped_img = np.fliplr(x)\n",
    "        image_add_list.append(flipped_img)\n",
    "        label_add_list.append(t)\n",
    "        \n",
    "#45度回転させるメソッド\n",
    "def transform_2(images, labels,image_add_list, label_add_list):\n",
    "    for img, lbl in zip(images, labels):\n",
    "        x, t = img, lbl\n",
    "        w, h, c = x.shape\n",
    "        size = (w, h)\n",
    "        center = (int(size[0])/2, int(size[1]/2))\n",
    "        angle = 45\n",
    "        scale = 1.0\n",
    "        rotation_matrix = cv2.getRotationMatrix2D(center, angle, scale)\n",
    "        rotated = cv2.warpAffine(x, rotation_matrix, size)\n",
    "        image_add_list.append(rotated)\n",
    "        label_add_list.append(t)"
   ]
  },
  {
   "cell_type": "code",
   "execution_count": 16,
   "metadata": {},
   "outputs": [
    {
     "name": "stdout",
     "output_type": "stream",
     "text": [
      "(600, 32, 32, 1)\n",
      "(600,)\n",
      "(390, 32, 32, 1)\n",
      "(390,)\n"
     ]
    }
   ],
   "source": [
    "#訓練データの水増しを行う。(45℃回転したもの)\n",
    "image_add_train_1 = []\n",
    "labels_add_train_1 = []\n",
    "transform_2(resized_images[0:threshold],labels[0:threshold],image_add_train_1,labels_add_train_1)\n",
    "image_add_train_1 = np.array(image_add_train_1)\n",
    "labels_add_train_1 = np.array(labels_add_train_1)\n",
    "image_add_train_1 = np.reshape(image_add_train_1, (600, 32, 32, 1))\n",
    "\n",
    "print(image_add_train_1.shape)\n",
    "print(labels_add_train_1.shape)\n",
    "\n",
    "#検証(テスト)データの水増し(45℃回転したもの)\n",
    "image_add_test_1 = []\n",
    "labels_add_test_1 = []\n",
    "transform_2(resized_images[threshold:],labels[threshold:],image_add_test_1,labels_add_test_1)\n",
    "image_add_test_1 = np.array(image_add_test_1).astype(np.float32)\n",
    "labels_add_test_1 = np.array(labels_add_test_1).astype(np.int32)\n",
    "image_add_test_1 = np.reshape(image_add_test_1, (-1, 32, 32, 1))\n",
    "print(image_add_test_1.shape)\n",
    "print(labels_add_test_1.shape)"
   ]
  },
  {
   "cell_type": "code",
   "execution_count": 17,
   "metadata": {},
   "outputs": [
    {
     "name": "stdout",
     "output_type": "stream",
     "text": [
      "(600, 32, 32, 1)\n",
      "(600,)\n",
      "(390, 32, 32, 1)\n",
      "(390,)\n"
     ]
    }
   ],
   "source": [
    "#訓練データの水増しを行う。(左右反転したもの)\n",
    "image_add_train_2 = []\n",
    "labels_add_train_2 = []\n",
    "transform_1(resized_images[0:threshold],labels[0:threshold],image_add_train_2,labels_add_train_2)\n",
    "image_add_train_2 = np.array(image_add_train_2)\n",
    "labels_add_train_2 = np.array(labels_add_train_2)\n",
    "\n",
    "print(image_add_train_2.shape)\n",
    "print(labels_add_train_2.shape)\n",
    "\n",
    "#元の型に変える。\n",
    "\n",
    "\n",
    "#検証(テスト)データの水増し(左右反転したもの)\n",
    "image_add_test_2 = []\n",
    "labels_add_test_2 = []\n",
    "transform_1(resized_images[threshold:],labels[threshold:],image_add_test_2,labels_add_test_2)\n",
    "image_add_test_2 = np.array(image_add_test_2)\n",
    "labels_add_test_2 = np.array(labels_add_test_2)\n",
    "\n",
    "print(image_add_test_2.shape)\n",
    "print(labels_add_test_2.shape)"
   ]
  },
  {
   "cell_type": "code",
   "execution_count": 18,
   "metadata": {},
   "outputs": [
    {
     "name": "stdout",
     "output_type": "stream",
     "text": [
      "(1800, 32, 32, 1)\n",
      "(1170, 32, 32, 1)\n",
      "(1800,)\n",
      "(1170,)\n"
     ]
    }
   ],
   "source": [
    "#水増ししたデータを結合する。\n",
    "train = np.vstack((resized_images[0:threshold], image_add_train_1, image_add_train_2))\n",
    "print(train.shape)\n",
    "test = np.vstack((resized_images[threshold:], image_add_test_1, image_add_test_2))\n",
    "print(test.shape)\n",
    "\n",
    "label_train = np.hstack((labels[0:threshold], labels_add_train_1,labels_add_train_2))\n",
    "print(label_train.shape)\n",
    "label_test = np.hstack((labels[threshold:], labels_add_test_1,labels_add_test_2))\n",
    "print(label_test.shape)"
   ]
  },
  {
   "cell_type": "code",
   "execution_count": 19,
   "metadata": {},
   "outputs": [
    {
     "name": "stdout",
     "output_type": "stream",
     "text": [
      "(1800, 1, 32, 32)\n",
      "(1170, 1, 32, 32)\n"
     ]
    }
   ],
   "source": [
    "#chainerが読み取れる型になおす。\n",
    "train = np.reshape(train,(1800, 1, 32, 32))\n",
    "test = np.reshape(test, (1170, 1, 32, 32))\n",
    "print(train.shape)\n",
    "print(test.shape)\n",
    "\n",
    "train /= 255.0\n",
    "test /= 255.0\n",
    "\n",
    "train_data = tuple_dataset.TupleDataset(train, label_train)\n",
    "test_data = tuple_dataset.TupleDataset(test, label_test)\n"
   ]
  },
  {
   "cell_type": "code",
   "execution_count": 20,
   "metadata": {
    "collapsed": true
   },
   "outputs": [],
   "source": [
    "#4層のMLPクラスを作る。\n",
    "class CNN(chainer.Chain):\n",
    "    def __init__(self):\n",
    "        super().__init__()\n",
    "        with self.init_scope():\n",
    "            self.conv1 = L.Convolution2D(in_channels=1, out_channels=64, ksize=4, stride=1, pad=2)\n",
    "            self.conv2 = L.Convolution2D(in_channels=64, out_channels=128, ksize=4, stride=1, pad=2)\n",
    "            self.conv3 = L.Convolution2D(in_channels=None, out_channels=128, ksize=4, stride=1, pad=2) # in_channelをNoneで省略\n",
    "            self.fc4 = L.Linear(None, 512)\n",
    "            self.fc5 = L.Linear(None, 99) # out_channelはクラス数と同じ5に設定\n",
    "        \n",
    "        \n",
    "    def __call__(self, X):\n",
    "        h = F.relu(F.max_pooling_2d(self.conv1(X), ksize=2)) # conv1の畳み込みのあとにMaxPoolingを実行\n",
    "        h = F.relu(F.max_pooling_2d(self.conv2(h), ksize=2)) # conv2の畳み込みのあとにMaxPpoolingを実行\n",
    "        h = F.relu(F.max_pooling_2d(self.conv3(h), ksize=2)) # conv3の畳み込みのあとにMaxPoolingを実行\n",
    "        h = F.relu(self.fc4(h))\n",
    "        return self.fc5(h)\n"
   ]
  },
  {
   "cell_type": "code",
   "execution_count": 21,
   "metadata": {
    "collapsed": true
   },
   "outputs": [],
   "source": [
    "#model,optimizerの設定\n",
    "model = L.Classifier(CNN())\n",
    "optimizer = optimizers.Adam()\n",
    "optimizer.setup(model)"
   ]
  },
  {
   "cell_type": "code",
   "execution_count": 22,
   "metadata": {
    "collapsed": true
   },
   "outputs": [],
   "source": [
    "batchsize = 99 #一回のバッチサイズ\n",
    "n_epoch = 20 #学習の繰り返し回数\n",
    "\n",
    "train_loss = []\n",
    "train_accuracy = []\n",
    "test_loss = []\n",
    "test_accuracy = []"
   ]
  },
  {
   "cell_type": "code",
   "execution_count": 23,
   "metadata": {
    "collapsed": true
   },
   "outputs": [],
   "source": [
    "train_iter = iterators.SerialIterator(train_data,batch_size=batchsize,shuffle=True)\n",
    "\n",
    "updater = training.StandardUpdater(train_iter,optimizer)\n",
    "trainer = training.Trainer(updater,(n_epoch,'epoch'),out = 'result')"
   ]
  },
  {
   "cell_type": "code",
   "execution_count": 24,
   "metadata": {
    "collapsed": true
   },
   "outputs": [],
   "source": [
    "test_iter = iterators.SerialIterator(test_data,batch_size=batchsize,shuffle=False,repeat=False)\n",
    "trainer.extend(extensions.Evaluator(test_iter, model))\n",
    "trainer.extend(extensions.LogReport())\n",
    "trainer.extend(extensions.PrintReport(['epoch', 'main/accuracy', 'main/loss', 'validation/main/accuracy', 'validation/main/loss']))\n",
    "trainer.extend(extensions.ProgressBar())\n",
    "trainer.extend(extensions.PlotReport(['main/accuracy', 'validation/main/accuracy'],\n",
    "                          'epoch', file_name='accuracy.png'))\n",
    "trainer.extend(extensions.PlotReport(['main/loss', 'validation/main/loss'],\n",
    "                          'epoch', file_name='loss.png'))"
   ]
  },
  {
   "cell_type": "code",
   "execution_count": 304,
   "metadata": {},
   "outputs": [
    {
     "name": "stdout",
     "output_type": "stream",
     "text": [
      "epoch       main/accuracy  main/loss   validation/main/accuracy  validation/main/loss\n",
      "1           0.0409357      4.38946     0.0642536                 4.11089               \n",
      "2           0.18743        3.19718     0.158249                  3.2055                \n",
      "3           0.309203       2.41648     0.292649                  2.53818               \n",
      "4           0.428171       1.95843     0.332492                  2.2496                \n",
      "5           0.501683       1.6761      0.406192                  2.0759                \n",
      "     total [#############.....................................] 27.50%\n",
      "this epoch [#########################.........................] 50.00%\n",
      "       100 iter, 5 epoch / 20 epochs\n",
      "       inf iters/sec. Estimated time to finish: 0:00:00.\n",
      "6           0.567783       1.44559     0.413113                  2.00903               \n",
      "7           0.622334       1.24502     0.475963                  1.80024               \n",
      "8           0.647587       1.11056     0.49336                   1.68232               \n",
      "9           0.720539       0.921165    0.505238                  1.74109               \n",
      "10          0.742424       0.772421    0.541526                  1.61351               \n",
      "11          0.779461       0.698305    0.525159                  1.59343               \n",
      "     total [###########################.......................] 55.00%\n",
      "this epoch [..................................................]  0.00%\n",
      "       200 iter, 11 epoch / 20 epochs\n",
      "   0.30209 iters/sec. Estimated time to finish: 0:09:01.683661.\n",
      "12          0.812334       0.571392    0.529181                  1.79647               \n",
      "13          0.810325       0.546652    0.557146                  1.61889               \n",
      "14          0.857464       0.42273     0.55752                   1.61521               \n",
      "15          0.892817       0.334892    0.588945                  1.57245               \n",
      "16          0.919192       0.261459    0.575477                  1.76057               \n",
      "     total [#########################################.........] 82.50%\n",
      "this epoch [#########################.........................] 50.00%\n",
      "       300 iter, 16 epoch / 20 epochs\n",
      "   0.30647 iters/sec. Estimated time to finish: 0:03:27.643135.\n",
      "17          0.92823        0.227891    0.544613                  1.99513               \n",
      "18          0.925365       0.237129    0.568275                  1.90173               \n",
      "19          0.935466       0.21259     0.577535                  1.82073               \n",
      "20          0.952301       0.18192     0.568743                  2.07288               \n"
     ]
    }
   ],
   "source": [
    "trainer.run()"
   ]
  },
  {
   "cell_type": "code",
   "execution_count": 305,
   "metadata": {},
   "outputs": [
    {
     "data": {
      "image/png": "[encoded data removed]",
      "text/plain": [
       "<matplotlib.figure.Figure at 0x24efccb3a20>"
      ]
     },
     "metadata": {},
     "output_type": "display_data"
    },
    {
     "data": {
      "image/png": "[encoded data removed]",
      "text/plain": [
       "<matplotlib.figure.Figure at 0x24ea8827080>"
      ]
     },
     "metadata": {},
     "output_type": "display_data"
    }
   ],
   "source": [
    "from pylab import box\n",
    "def show_graph(src):\n",
    "    img =  plt.imread(src)\n",
    "    xpixels, ypixels = img.shape[0],img.shape[1]\n",
    "    dpi = 100\n",
    "    margin = 0.01\n",
    "    figsize = (1 + margin) * ypixels / dpi, (1 + margin) * xpixels / dpi\n",
    "\n",
    "    fig = plt.figure(figsize=figsize, dpi=dpi)\n",
    "    ax = fig.add_axes([margin, margin, 1 - 2*margin, 1 - 2*margin])\n",
    "    ax.tick_params(labelbottom=\"off\",bottom=\"off\")\n",
    "    ax.tick_params(labelleft=\"off\",left=\"off\")\n",
    "\n",
    "    ax.imshow(img, interpolation='none')\n",
    "    box(\"off\")\n",
    "    plt.show()\n",
    "#損失関数と精度の視覚化    \n",
    "show_graph('result/loss.png')\n",
    "show_graph('result/accuracy.png')\n"
   ]
  },
  {
   "cell_type": "code",
   "execution_count": 306,
   "metadata": {
    "collapsed": true
   },
   "outputs": [],
   "source": [
    "#modelの保存\n",
    "serializers.save_npz('leaf_classification_model', model)"
   ]
  },
  {
   "cell_type": "code",
   "execution_count": 25,
   "metadata": {
    "collapsed": true
   },
   "outputs": [],
   "source": [
    "#modelの読み込み\n",
    "serializers.load_npz('leaf_classification_model', model)"
   ]
  },
  {
   "cell_type": "code",
   "execution_count": 26,
   "metadata": {
    "collapsed": true
   },
   "outputs": [],
   "source": [
    "#提出用の画像データの読み込み\n",
    "predict_images = []\n",
    "for i in test_.id:\n",
    "    image = cv2.imread('images3/%d.jpg' % i)\n",
    "    grayed = cv2.cvtColor(image, cv2.COLOR_BGR2GRAY)\n",
    "    predict_images.append(grayed)\n",
    "    "
   ]
  },
  {
   "cell_type": "code",
   "execution_count": 27,
   "metadata": {},
   "outputs": [
    {
     "name": "stdout",
     "output_type": "stream",
     "text": [
      "(594, 1, 32, 32)\n"
     ]
    }
   ],
   "source": [
    "predict_length = len(predict_images)\n",
    "predict_images = np.array([predict_images])\n",
    "\n",
    "#chaienrが扱える形に大きさを変換する。\n",
    "predict_images = predict_images.reshape((predict_length, 1, 32, 32))\n",
    "print(predict_images.shape)"
   ]
  },
  {
   "cell_type": "code",
   "execution_count": 28,
   "metadata": {
    "collapsed": true
   },
   "outputs": [],
   "source": [
    "#chainerが扱える形に変換\n",
    "predict_images = predict_images.astype(np.float32)"
   ]
  },
  {
   "cell_type": "code",
   "execution_count": 29,
   "metadata": {
    "collapsed": true
   },
   "outputs": [],
   "source": [
    "predict_label = []\n",
    "#予測する関数\n",
    "def predict(model, X):\n",
    "    # データ数が1の場合は、バッチサイズ分の次元を追加\n",
    "    if len(X.shape) == 1:  \n",
    "        pred = model.predictor(X[None, ...]).data.argmax()\n",
    "    # データ数が2以上の場合はそのまま\n",
    "    else:  \n",
    "        pred = model.predictor(X).data.argmax(axis=1)\n",
    "    return pred\n",
    "\n",
    "pred = predict(model, predict_images)"
   ]
  },
  {
   "cell_type": "code",
   "execution_count": 30,
   "metadata": {},
   "outputs": [
    {
     "name": "stderr",
     "output_type": "stream",
     "text": [
      "C:\\Users\\falcon4842\\Anaconda3\\lib\\site-packages\\sklearn\\preprocessing\\label.py:151: DeprecationWarning: The truth value of an empty array is ambiguous. Returning False, but in future this will result in an error. Use `array.size > 0` to check that an array is not empty.\n",
      "  if diff:\n"
     ]
    },
    {
     "data": {
      "text/plain": [
       "array(['Quercus_Agrifolia', 'Eucalyptus_Urnigera', 'Acer_Circinatum',\n",
       "       'Quercus_Castaneifolia', 'Populus_Grandidentata'], dtype=object)"
      ]
     },
     "execution_count": 30,
     "metadata": {},
     "output_type": "execute_result"
    }
   ],
   "source": [
    "#得られたラベルを元のspeciesに戻す。\n",
    "predic_label = le.inverse_transform(pred)\n",
    "predic_label[:5]"
   ]
  },
  {
   "cell_type": "code",
   "execution_count": 31,
   "metadata": {
    "collapsed": true
   },
   "outputs": [],
   "source": [
    "df_test_id = pd.DataFrame(test_.id, columns=['id'])\n",
    "df_test_pred = pd.DataFrame(predic_label, columns=['species'])\n",
    "#kaggleの評価は、それぞれのspeciesでの確率なのでダミー変数化しておく。0か1で確率表現ができる。\n",
    "df_test_pred_dummy = pd.get_dummies(df_test_pred['species'])\n",
    "df_submit = pd.concat([df_test_id, df_test_pred_dummy], axis=1)\n",
    "df_submit.to_csv('leaf_classification2.csv', index=False)"
   ]
  },
  {
   "cell_type": "code",
   "execution_count": null,
   "metadata": {
    "collapsed": true
   },
   "outputs": [],
   "source": []
  }
 ],
 "metadata": {
  "kernelspec": {
   "display_name": "Python 3",
   "language": "python",
   "name": "python3"
  },
  "language_info": {
   "codemirror_mode": {
    "name": "ipython",
    "version": 3
   },
   "file_extension": ".py",
   "mimetype": "text/x-python",
   "name": "python",
   "nbconvert_exporter": "python",
   "pygments_lexer": "ipython3",
   "version": "3.6.3"
  }
 },
 "nbformat": 4,
 "nbformat_minor": 2
}
