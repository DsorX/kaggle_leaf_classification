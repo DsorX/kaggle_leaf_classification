{
 "cells": [
  {
   "cell_type": "code",
   "execution_count": 1,
   "metadata": {},
   "outputs": [
    {
     "name": "stderr",
     "output_type": "stream",
     "text": [
      "C:\\Users\\falcon4842\\Anaconda3\\lib\\site-packages\\h5py\\__init__.py:34: FutureWarning: Conversion of the second argument of issubdtype from `float` to `np.floating` is deprecated. In future, it will be treated as `np.float64 == np.dtype(float).type`.\n",
      "  from ._conv import register_converters as _register_converters\n"
     ]
    }
   ],
   "source": [
    "import numpy as np\n",
    "import matplotlib.pyplot as plt\n",
    "import pandas as pd\n",
    "% matplotlib inline\n",
    "import cv2\n",
    "import chainer\n",
    "import chainer.functions as F           # パラメータを含まない関数を収録したパッケージ\n",
    "import chainer.links as L               # パラメータを含む関数を収録したパッケージ\n",
    "from chainer import computational_graph # グラフを出力するパッケージ\n",
    "from chainer import serializers    \n",
    "from chainer.datasets import tuple_dataset, TransformDataset\n",
    "from chainer.training import extensions\n",
    "from chainer import optimizers, serializers, training, iterators\n"
   ]
  },
  {
   "cell_type": "code",
   "execution_count": 2,
   "metadata": {
    "collapsed": true
   },
   "outputs": [],
   "source": [
    "#読み込み\n",
    "train_ = pd.read_csv('train.csv/train.csv')\n",
    "test_ = pd.read_csv('test.csv/test.csv')"
   ]
  },
  {
   "cell_type": "code",
   "execution_count": 3,
   "metadata": {
    "collapsed": true
   },
   "outputs": [],
   "source": [
    "images=[]\n",
    "\n",
    "for i in range(1, 1585):\n",
    "    #%に入る\n",
    "    image = cv2.imread('images2/%d.jpg'%i)\n",
    "    grayed = cv2.cvtColor(image, cv2.COLOR_BGR2GRAY)\n",
    "    images.append(grayed)"
   ]
  },
  {
   "cell_type": "code",
   "execution_count": 4,
   "metadata": {},
   "outputs": [
    {
     "data": {
      "text/plain": [
       "1584"
      ]
     },
     "execution_count": 4,
     "metadata": {},
     "output_type": "execute_result"
    }
   ],
   "source": [
    "len(images)"
   ]
  },
  {
   "cell_type": "code",
   "execution_count": 5,
   "metadata": {
    "collapsed": true
   },
   "outputs": [],
   "source": [
    "#大きさを32*32に変更する関数\n",
    "def resize_image(img):\n",
    "    end_size = 32\n",
    "    max_ = np.maximum(img.shape[0], img.shape[1])\n",
    "    scale = end_size / max_\n",
    "    height, width = img.shape\n",
    "    size = (int(width*scale), int(height*scale))\n",
    "\n",
    "    rescale_image = cv2.resize(img, size, interpolation=cv2.INTER_CUBIC)\n",
    "\n",
    "    height, width = rescale_image.shape\n",
    "\n",
    "    if width > height:\n",
    "        z_pad = np.zeros([int((width-height)/2), width], dtype=np.uint8)\n",
    "        end_image = np.vstack((z_pad, rescale_image, z_pad))\n",
    "    else:\n",
    "        z_pad = np.zeros([height, int((height - width)/2)], dtype=np.uint8)\n",
    "        end_image = np.hstack((z_pad, rescale_image, z_pad))\n",
    "\n",
    "    end_image = cv2.resize(end_image, (end_size, end_size))\n",
    "\n",
    "    return end_image\n",
    "\n",
    "for i, img in enumerate(images):\n",
    "    cv2.imwrite(\"images3/%d.jpg\"%(i+1), resize_image(img))"
   ]
  },
  {
   "cell_type": "code",
   "execution_count": 117,
   "metadata": {},
   "outputs": [
    {
     "name": "stdout",
     "output_type": "stream",
     "text": [
      "990\n"
     ]
    },
    {
     "data": {
      "text/plain": [
       "0              Acer_Opalus\n",
       "1    Pterocarya_Stenoptera\n",
       "2     Quercus_Hartwissiana\n",
       "3          Tilia_Tomentosa\n",
       "4       Quercus_Variabilis\n",
       "Name: species, dtype: object"
      ]
     },
     "execution_count": 117,
     "metadata": {},
     "output_type": "execute_result"
    }
   ],
   "source": [
    "#train_データのラベル\n",
    "labels = train_['species']\n",
    "print(len(labels))\n",
    "labels.head()"
   ]
  },
  {
   "cell_type": "code",
   "execution_count": 72,
   "metadata": {
    "collapsed": true
   },
   "outputs": [],
   "source": [
    "#32*32の画像データをtrain_データのみリストに格納する\n",
    "resized_images = []\n",
    "for i in train_.id:\n",
    "    image = cv2.imread('images3/%d.jpg' % i)\n",
    "    grayed = cv2.cvtColor(image, cv2.COLOR_BGR2GRAY)\n",
    "    resized_images.append(grayed)\n"
   ]
  },
  {
   "cell_type": "code",
   "execution_count": 73,
   "metadata": {},
   "outputs": [
    {
     "name": "stdout",
     "output_type": "stream",
     "text": [
      "990\n"
     ]
    }
   ],
   "source": [
    "#resized_imagesの大きさを確認\n",
    "print(len(resized_images))"
   ]
  },
  {
   "cell_type": "code",
   "execution_count": 74,
   "metadata": {
    "collapsed": true
   },
   "outputs": [],
   "source": [
    "#numpyのarrayに変換し、chainerが扱える型にしておく\n",
    "resized_images = np.array(resized_images).astype(np.float32)"
   ]
  },
  {
   "cell_type": "code",
   "execution_count": 75,
   "metadata": {},
   "outputs": [
    {
     "name": "stdout",
     "output_type": "stream",
     "text": [
      "(990, 32, 32)\n"
     ]
    }
   ],
   "source": [
    "#大きさを確認\n",
    "print(resized_images.shape)"
   ]
  },
  {
   "cell_type": "code",
   "execution_count": 76,
   "metadata": {},
   "outputs": [
    {
     "name": "stdout",
     "output_type": "stream",
     "text": [
      "(990, 32, 32, 1)\n"
     ]
    }
   ],
   "source": [
    "#大きさを(990, 32, 32,1 )に変換\n",
    "resized_images = np.reshape(resized_images, (990, 32, 32, 1))\n",
    "#大きさが変わったことを確認\n",
    "print(resized_images.shape)"
   ]
  },
  {
   "cell_type": "code",
   "execution_count": 77,
   "metadata": {},
   "outputs": [
    {
     "data": {
      "text/plain": [
       "(32, 32, 1)"
      ]
     },
     "execution_count": 77,
     "metadata": {},
     "output_type": "execute_result"
    }
   ],
   "source": [
    "resized_images[0].shape "
   ]
  },
  {
   "cell_type": "code",
   "execution_count": 118,
   "metadata": {},
   "outputs": [
    {
     "data": {
      "text/plain": [
       "(990,)"
      ]
     },
     "execution_count": 118,
     "metadata": {},
     "output_type": "execute_result"
    }
   ],
   "source": [
    "#labelのエンコードを行う。\n",
    "from sklearn import preprocessing\n",
    "le = preprocessing.LabelEncoder()\n",
    "le.fit(labels)\n",
    "labels = le.transform(labels)\n",
    "labels = labels.astype(np.int32)\n",
    "labels.shape"
   ]
  },
  {
   "cell_type": "code",
   "execution_count": 93,
   "metadata": {
    "collapsed": true
   },
   "outputs": [],
   "source": [
    "#tain_の900のデータで閾値を600としてそれより前は訓練データに、後は検証データにする。訓練データと検証データをわけてから画像の水増しをするので\n",
    "#leakageの心配はない\n",
    "threshold = 800"
   ]
  },
  {
   "cell_type": "code",
   "execution_count": 94,
   "metadata": {
    "collapsed": true
   },
   "outputs": [],
   "source": [
    "#左右反転させるメソッド\n",
    "def transform_1(images, labels,image_add_list, label_add_list):\n",
    "    for img, lbl in zip(images, labels):\n",
    "        x, t = img, lbl\n",
    "        flipped_img = np.fliplr(x)\n",
    "        #ガウシアン平滑化\n",
    "        flipped_blurred = cv2.GaussianBlur(flipped_img, (11, 11), 0)\n",
    "        image_add_list.append(flipped_blurred)\n",
    "        label_add_list.append(t)\n",
    "        \n",
    "#90度回転するメソッド\n",
    "def transform_2(images, labels,image_add_list, label_add_list):\n",
    "    for img, lbl in zip(images, labels):\n",
    "        x, t = img, lbl\n",
    "        w, h, c = x.shape\n",
    "        size = (w, h)\n",
    "        center = (int(size[0])/2, int(size[1]/2))\n",
    "        if np.random.rand() > 0.5:\n",
    "            angle = 90\n",
    "        else:\n",
    "            angle = 180\n",
    "        scale = 1.0\n",
    "        rotation_matrix = cv2.getRotationMatrix2D(center, angle, scale)\n",
    "        rotated = cv2.warpAffine(x, rotation_matrix, size)\n",
    "        #ガウシアン平滑化\n",
    "        rotated_blurred = cv2.GaussianBlur(rotated, (11, 11), 0)\n",
    "        image_add_list.append(rotated)\n",
    "        label_add_list.append(t)\n",
    "        \n"
   ]
  },
  {
   "cell_type": "code",
   "execution_count": 95,
   "metadata": {},
   "outputs": [
    {
     "name": "stdout",
     "output_type": "stream",
     "text": [
      "(800, 32, 32, 1)\n",
      "(800,)\n",
      "(190, 32, 32, 1)\n",
      "(190,)\n"
     ]
    }
   ],
   "source": [
    "#訓練データの水増しを行う。(90度度回転したもの)\n",
    "image_add_train_1 = []\n",
    "labels_add_train_1 = []\n",
    "transform_2(resized_images[0:threshold],labels[0:threshold],image_add_train_1,labels_add_train_1)\n",
    "image_add_train_1 = np.array(image_add_train_1)\n",
    "labels_add_train_1 = np.array(labels_add_train_1)\n",
    "image_add_train_1 = np.reshape(image_add_train_1, (800, 32, 32, 1))\n",
    "\n",
    "print(image_add_train_1.shape)\n",
    "print(labels_add_train_1.shape)\n",
    "\n",
    "#検証(テスト)データの水増し(90度回転したもの)\n",
    "image_add_test_1 = []\n",
    "labels_add_test_1 = []\n",
    "transform_2(resized_images[threshold:],labels[threshold:],image_add_test_1,labels_add_test_1)\n",
    "image_add_test_1 = np.array(image_add_test_1).astype(np.float32)\n",
    "labels_add_test_1 = np.array(labels_add_test_1).astype(np.int32)\n",
    "image_add_test_1 = np.reshape(image_add_test_1, (-1, 32, 32, 1))\n",
    "print(image_add_test_1.shape)\n",
    "print(labels_add_test_1.shape)"
   ]
  },
  {
   "cell_type": "code",
   "execution_count": 96,
   "metadata": {},
   "outputs": [
    {
     "name": "stdout",
     "output_type": "stream",
     "text": [
      "(800, 32, 32, 1)\n",
      "(800,)\n",
      "(190, 32, 32, 1)\n",
      "(190,)\n"
     ]
    }
   ],
   "source": [
    "#訓練データの水増しを行う。(左右反転したもの)\n",
    "image_add_train_2 = []\n",
    "labels_add_train_2 = []\n",
    "transform_1(resized_images[0:threshold],labels[0:threshold],image_add_train_2,labels_add_train_2)\n",
    "image_add_train_2 = np.array(image_add_train_2)\n",
    "labels_add_train_2 = np.array(labels_add_train_2)\n",
    "image_add_train_2 = np.reshape(image_add_train_2, (800, 32, 32, 1))\n",
    "\n",
    "print(image_add_train_2.shape)\n",
    "print(labels_add_train_2.shape)\n",
    "\n",
    "#元の型に変える。\n",
    "\n",
    "\n",
    "#検証(テスト)データの水増し(左右反転したもの)\n",
    "image_add_test_2 = []\n",
    "labels_add_test_2 = []\n",
    "transform_1(resized_images[threshold:],labels[threshold:],image_add_test_2,labels_add_test_2)\n",
    "image_add_test_2 = np.array(image_add_test_2)\n",
    "labels_add_test_2 = np.array(labels_add_test_2)\n",
    "image_add_test_2 = np.reshape(image_add_test_2, (-1, 32, 32, 1))\n",
    "print(image_add_test_2.shape)\n",
    "print(labels_add_test_2.shape)"
   ]
  },
  {
   "cell_type": "code",
   "execution_count": 97,
   "metadata": {},
   "outputs": [
    {
     "name": "stdout",
     "output_type": "stream",
     "text": [
      "(2400, 32, 32, 1)\n",
      "(570, 32, 32, 1)\n",
      "(2400,)\n",
      "(570,)\n"
     ]
    }
   ],
   "source": [
    "#水増ししたデータを結合する。\n",
    "train = np.vstack((resized_images[0:threshold], image_add_train_1, image_add_train_2))\n",
    "print(train.shape)\n",
    "test = np.vstack((resized_images[threshold:], image_add_test_1, image_add_test_2))\n",
    "print(test.shape)\n",
    "\n",
    "label_train = np.hstack((labels[0:threshold], labels_add_train_1,labels_add_train_2))\n",
    "print(label_train.shape)\n",
    "label_test = np.hstack((labels[threshold:], labels_add_test_1,labels_add_test_2))\n",
    "print(label_test.shape)"
   ]
  },
  {
   "cell_type": "code",
   "execution_count": 98,
   "metadata": {},
   "outputs": [
    {
     "name": "stdout",
     "output_type": "stream",
     "text": [
      "(2400, 1, 32, 32)\n",
      "(570, 1, 32, 32)\n"
     ]
    }
   ],
   "source": [
    "#chainerが読み取れる型になおす。\n",
    "train = np.reshape(train,(2400, 1, 32, 32))\n",
    "test = np.reshape(test, (570, 1, 32, 32))\n",
    "print(train.shape)\n",
    "print(test.shape)\n",
    "\n",
    "#標準化\n",
    "train /= 255.0\n",
    "test /= 255.0\n",
    "train -= np.mean(train)\n",
    "test -= np.mean(test)\n",
    "\n",
    "train_data = tuple_dataset.TupleDataset(train, label_train)\n",
    "test_data = tuple_dataset.TupleDataset(test, label_test)\n"
   ]
  },
  {
   "cell_type": "code",
   "execution_count": 99,
   "metadata": {
    "collapsed": true
   },
   "outputs": [],
   "source": [
    "#4層のMLPクラスを作る。\n",
    "class CNN(chainer.Chain):\n",
    "    def __init__(self):\n",
    "        super().__init__()\n",
    "        with self.init_scope():\n",
    "            self.conv1 = L.Convolution2D(in_channels=1, out_channels=64, ksize=4, stride=1, pad=2)\n",
    "            self.conv2 = L.Convolution2D(in_channels=64, out_channels=128, ksize=4, stride=1, pad=2)\n",
    "            self.conv3 = L.Convolution2D(in_channels=None, out_channels=128, ksize=4, stride=1, pad=2) # in_channelをNoneで省略\n",
    "            self.fc4 = L.Linear(None, 512)\n",
    "            self.fc5 = L.Linear(None, 99) # out_channelはラベル数と同じ99に設定\n",
    "        \n",
    "        \n",
    "    def __call__(self, X):\n",
    "        h = F.relu(F.max_pooling_2d(self.conv1(X), ksize=2)) # conv1の畳み込みのあとにMaxPoolingを実行\n",
    "        h = F.relu(F.max_pooling_2d(self.conv2(h), ksize=2)) # conv2の畳み込みのあとにMaxPpoolingを実行\n",
    "        h = F.relu(F.max_pooling_2d(self.conv3(h), ksize=2)) # conv3の畳み込みのあとにMaxPpoolingを実行\n",
    "        h = F.dropout(F.relu(self.fc4(h)), ratio=0.5) #dropout\n",
    "        return self.fc5(h)\n"
   ]
  },
  {
   "cell_type": "code",
   "execution_count": 100,
   "metadata": {
    "collapsed": true
   },
   "outputs": [],
   "source": [
    "#model,optimizerの設定\n",
    "model = L.Classifier(CNN())\n",
    "optimizer = optimizers.Adam()\n",
    "optimizer.setup(model)"
   ]
  },
  {
   "cell_type": "code",
   "execution_count": 101,
   "metadata": {
    "collapsed": true
   },
   "outputs": [],
   "source": [
    "batchsize = 99 #一回のバッチサイズ\n",
    "n_epoch = 20 #学習の繰り返し回数\n",
    "\n",
    "train_loss = []\n",
    "train_accuracy = []\n",
    "test_loss = []\n",
    "test_accuracy = []"
   ]
  },
  {
   "cell_type": "code",
   "execution_count": 102,
   "metadata": {
    "collapsed": true
   },
   "outputs": [],
   "source": [
    "train_iter = iterators.SerialIterator(train_data,batch_size=batchsize,shuffle=True)\n",
    "\n",
    "updater = training.StandardUpdater(train_iter,optimizer)\n",
    "trainer = training.Trainer(updater,(n_epoch,'epoch'),out = 'result')"
   ]
  },
  {
   "cell_type": "code",
   "execution_count": 103,
   "metadata": {
    "collapsed": true
   },
   "outputs": [],
   "source": [
    "test_iter = iterators.SerialIterator(test_data,batch_size=batchsize,shuffle=False,repeat=False)\n",
    "trainer.extend(extensions.Evaluator(test_iter, model))\n",
    "trainer.extend(extensions.LogReport())\n",
    "trainer.extend(extensions.PrintReport(['epoch', 'main/accuracy', 'main/loss', 'validation/main/accuracy', 'validation/main/loss']))\n",
    "trainer.extend(extensions.ProgressBar())\n",
    "trainer.extend(extensions.PlotReport(['main/accuracy', 'validation/main/accuracy'],\n",
    "                          'epoch', file_name='accuracy.png'))\n",
    "trainer.extend(extensions.PlotReport(['main/loss', 'validation/main/loss'],\n",
    "                          'epoch', file_name='loss.png'))"
   ]
  },
  {
   "cell_type": "code",
   "execution_count": 104,
   "metadata": {},
   "outputs": [
    {
     "name": "stdout",
     "output_type": "stream",
     "text": [
      "epoch       main/accuracy  main/loss   validation/main/accuracy  validation/main/loss\n",
      "1           0.020202       4.55797     0.0140067                 4.47337               \n",
      "2           0.0702862      4.06904     0.0503704                 3.87586               \n",
      "3           0.120791       3.59053     0.154478                  3.45676               \n",
      "4           0.151936       3.25931     0.174141                  3.20974               \n",
      "     total [##########........................................] 20.62%\n",
      "this epoch [######............................................] 12.50%\n",
      "       100 iter, 4 epoch / 20 epochs\n",
      "       inf iters/sec. Estimated time to finish: 0:00:00.\n",
      "5           0.197576       2.91873     0.220067                  2.90644               \n",
      "6           0.241582       2.68061     0.306195                  2.59668               \n",
      "7           0.298401       2.4513      0.34936                   2.41787               \n",
      "8           0.34596        2.21796     0.385185                  2.25067               \n",
      "     total [####################..............................] 41.25%\n",
      "this epoch [############......................................] 25.00%\n",
      "       200 iter, 8 epoch / 20 epochs\n",
      "   0.37411 iters/sec. Estimated time to finish: 0:12:41.399490.\n",
      "9           0.405253       2.01237     0.398114                  2.08636               \n",
      "10          0.419613       1.9174      0.44404                   1.99145               \n",
      "11          0.460438       1.73821     0.432256                  1.92828               \n",
      "12          0.48569        1.64893     0.459259                  1.91944               \n",
      "     total [##############################....................] 61.88%\n",
      "this epoch [##################................................] 37.50%\n",
      "       300 iter, 12 epoch / 20 epochs\n",
      "   0.36899 iters/sec. Estimated time to finish: 0:08:20.960064.\n",
      "13          0.519192       1.53206     0.464848                  1.79557               \n",
      "14          0.530303       1.47257     0.470438                  1.83821               \n",
      "15          0.573653       1.36547     0.523704                  1.71818               \n",
      "16          0.592172       1.26449     0.534276                  1.61214               \n",
      "     total [#########################################.........] 82.50%\n",
      "this epoch [#########################.........................] 50.00%\n",
      "       400 iter, 16 epoch / 20 epochs\n",
      "   0.36902 iters/sec. Estimated time to finish: 0:03:49.930135.\n",
      "17          0.624242       1.17989     0.510774                  1.68765               \n",
      "18          0.61069        1.17964     0.528687                  1.63389               \n",
      "19          0.648569       1.0966      0.508081                  1.7143                \n",
      "20          0.677609       0.990164    0.53771                   1.66421               \n"
     ]
    }
   ],
   "source": [
    "trainer.run()"
   ]
  },
  {
   "cell_type": "code",
   "execution_count": 105,
   "metadata": {
    "scrolled": true
   },
   "outputs": [
    {
     "data": {
      "image/png": "[encoded data removed]",
      "text/plain": [
       "<matplotlib.figure.Figure at 0x272aa5bdbe0>"
      ]
     },
     "metadata": {},
     "output_type": "display_data"
    },
    {
     "data": {
      "image/png": "[encoded data removed]",
      "text/plain": [
       "<matplotlib.figure.Figure at 0x272aa5bd828>"
      ]
     },
     "metadata": {},
     "output_type": "display_data"
    }
   ],
   "source": [
    "from pylab import box\n",
    "def show_graph(src):\n",
    "    img =  plt.imread(src)\n",
    "    xpixels, ypixels = img.shape[0],img.shape[1]\n",
    "    dpi = 100\n",
    "    margin = 0.01\n",
    "    figsize = (1 + margin) * ypixels / dpi, (1 + margin) * xpixels / dpi\n",
    "\n",
    "    fig = plt.figure(figsize=figsize, dpi=dpi)\n",
    "    ax = fig.add_axes([margin, margin, 1 - 2*margin, 1 - 2*margin])\n",
    "    ax.tick_params(labelbottom=\"off\",bottom=\"off\")\n",
    "    ax.tick_params(labelleft=\"off\",left=\"off\")\n",
    "\n",
    "    ax.imshow(img, interpolation='none')\n",
    "    box(\"off\")\n",
    "    plt.show()\n",
    "#損失関数と精度の視覚化    \n",
    "show_graph('result/loss.png')\n",
    "show_graph('result/accuracy.png')\n"
   ]
  },
  {
   "cell_type": "code",
   "execution_count": 106,
   "metadata": {
    "collapsed": true
   },
   "outputs": [],
   "source": [
    "#modelの保存\n",
    "serializers.save_npz('leaf_classification_model', model)"
   ]
  },
  {
   "cell_type": "code",
   "execution_count": 107,
   "metadata": {
    "collapsed": true
   },
   "outputs": [],
   "source": [
    "#modelの読み込み\n",
    "serializers.load_npz('leaf_classification_model', model)"
   ]
  }
 ],
 "metadata": {
  "kernelspec": {
   "display_name": "Python 3",
   "language": "python",
   "name": "python3"
  },
  "language_info": {
   "codemirror_mode": {
    "name": "ipython",
    "version": 3
   },
   "file_extension": ".py",
   "mimetype": "text/x-python",
   "name": "python",
   "nbconvert_exporter": "python",
   "pygments_lexer": "ipython3",
   "version": "3.6.3"
  }
 },
 "nbformat": 4,
 "nbformat_minor": 2
}
