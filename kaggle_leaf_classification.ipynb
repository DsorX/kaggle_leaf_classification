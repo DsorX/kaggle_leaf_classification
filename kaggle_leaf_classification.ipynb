{
 "cells": [
  {
   "cell_type": "code",
   "execution_count": 80,
   "metadata": {},
   "outputs": [],
   "source": [
    "import numpy as np\n",
    "import matplotlib.pyplot as plt\n",
    "import pandas as pd\n",
    "% matplotlib inline\n",
    "import cv2\n",
    "import chainer\n",
    "import chainer.functions as F           # パラメータを含まない関数を収録したパッケージ\n",
    "import chainer.links as L               # パラメータを含む関数を収録したパッケージ\n",
    "from chainer import computational_graph # グラフを出力するパッケージ\n",
    "from chainer import serializers    \n",
    "from chainer.datasets import tuple_dataset, TransformDataset\n",
    "from chainer.training import extensions\n",
    "from chainer import optimizers, serializers, training, iterators\n"
   ]
  },
  {
   "cell_type": "code",
   "execution_count": 81,
   "metadata": {
    "collapsed": true
   },
   "outputs": [],
   "source": [
    "#読み込み\n",
    "train_ = pd.read_csv('train.csv/train.csv')\n",
    "test_ = pd.read_csv('test.csv/test.csv')"
   ]
  },
  {
   "cell_type": "code",
   "execution_count": 82,
   "metadata": {
    "collapsed": true
   },
   "outputs": [],
   "source": [
    "#imagesにすべての画像(images21に入っている)を格納しておく\n",
    "images=[]\n",
    "\n",
    "for i in range(1, 1585):\n",
    "    #%に入る\n",
    "    image = cv2.imread('images2/%d.jpg'%i)\n",
    "    grayed = cv2.cvtColor(image, cv2.COLOR_BGR2GRAY)\n",
    "    images.append(grayed)"
   ]
  },
  {
   "cell_type": "code",
   "execution_count": 83,
   "metadata": {},
   "outputs": [
    {
     "data": {
      "text/plain": [
       "1584"
      ]
     },
     "execution_count": 83,
     "metadata": {},
     "output_type": "execute_result"
    }
   ],
   "source": [
    "#imagesの長さの確認\n",
    "len(images)"
   ]
  },
  {
   "cell_type": "code",
   "execution_count": 84,
   "metadata": {
    "collapsed": true
   },
   "outputs": [],
   "source": [
    "#画像データを32*32に大きさを変換するメソッド\n",
    "def resize_image(img):\n",
    "    end_size = 32\n",
    "    max_ = np.maximum(img.shape[0], img.shape[1])\n",
    "    scale = end_size / max_\n",
    "    height, width = img.shape\n",
    "    size = (int(width*scale), int(height*scale))\n",
    "\n",
    "    rescale_image = cv2.resize(img, size, interpolation=cv2.INTER_CUBIC)\n",
    "\n",
    "    height, width = rescale_image.shape\n",
    "\n",
    "    if width > height:\n",
    "        z_pad = np.zeros([int((width-height)/2), width], dtype=np.uint8)\n",
    "        end_image = np.vstack((z_pad, rescale_image, z_pad))\n",
    "    else:\n",
    "        z_pad = np.zeros([height, int((height - width)/2)], dtype=np.uint8)\n",
    "        end_image = np.hstack((z_pad, rescale_image, z_pad))\n",
    "\n",
    "    end_image = cv2.resize(end_image, (end_size, end_size))\n",
    "\n",
    "    return end_image\n"
   ]
  },
  {
   "cell_type": "code",
   "execution_count": 85,
   "metadata": {
    "collapsed": true
   },
   "outputs": [],
   "source": [
    "for i, img in enumerate(images):\n",
    "    cv2.imwrite(\"images3/%d.jpg\"%(i+1), resize_image(img))"
   ]
  },
  {
   "cell_type": "code",
   "execution_count": 86,
   "metadata": {
    "collapsed": true
   },
   "outputs": [],
   "source": [
    "#train_データのラベル\n",
    "labels = train_['species']"
   ]
  },
  {
   "cell_type": "code",
   "execution_count": 87,
   "metadata": {
    "scrolled": true
   },
   "outputs": [
    {
     "data": {
      "text/plain": [
       "0              Acer_Opalus\n",
       "1    Pterocarya_Stenoptera\n",
       "2     Quercus_Hartwissiana\n",
       "3          Tilia_Tomentosa\n",
       "4       Quercus_Variabilis\n",
       "Name: species, dtype: object"
      ]
     },
     "execution_count": 87,
     "metadata": {},
     "output_type": "execute_result"
    }
   ],
   "source": [
    "#labelsの確認\n",
    "labels.head()"
   ]
  },
  {
   "cell_type": "code",
   "execution_count": 88,
   "metadata": {},
   "outputs": [
    {
     "name": "stdout",
     "output_type": "stream",
     "text": [
      "990\n"
     ]
    }
   ],
   "source": [
    "#長さの確認\n",
    "print(len(labels))"
   ]
  },
  {
   "cell_type": "code",
   "execution_count": 89,
   "metadata": {
    "collapsed": true
   },
   "outputs": [],
   "source": [
    "#32*32の画像データをtrain_データのみリストに格納する\n",
    "resized_images = []\n",
    "for i in train_.id:\n",
    "    image = cv2.imread('images3/%d.jpg' % i)\n",
    "    grayed = cv2.cvtColor(image, cv2.COLOR_BGR2GRAY)\n",
    "    resized_images.append(grayed)\n"
   ]
  },
  {
   "cell_type": "code",
   "execution_count": 90,
   "metadata": {},
   "outputs": [
    {
     "name": "stdout",
     "output_type": "stream",
     "text": [
      "990\n"
     ]
    }
   ],
   "source": [
    "#resized_imagesの大きさを確認\n",
    "print(len(resized_images))"
   ]
  },
  {
   "cell_type": "code",
   "execution_count": 91,
   "metadata": {
    "collapsed": true
   },
   "outputs": [],
   "source": [
    "#numpyのarrayに変換し、chainerが扱える型にしておく\n",
    "resized_images = np.array([resized_images]).astype(np.float32)"
   ]
  },
  {
   "cell_type": "code",
   "execution_count": 93,
   "metadata": {},
   "outputs": [
    {
     "name": "stdout",
     "output_type": "stream",
     "text": [
      "(1, 990, 32, 32)\n"
     ]
    }
   ],
   "source": [
    "#大きさを確認\n",
    "print(resized_images.shape)"
   ]
  },
  {
   "cell_type": "code",
   "execution_count": 94,
   "metadata": {},
   "outputs": [],
   "source": [
    "#大きさを(990, 1, 32, 32)に変換\n",
    "resized_images = np.reshape(resized_images, (990, 1, 32, 32))"
   ]
  },
  {
   "cell_type": "code",
   "execution_count": 95,
   "metadata": {},
   "outputs": [
    {
     "name": "stdout",
     "output_type": "stream",
     "text": [
      "(990, 1, 32, 32)\n"
     ]
    }
   ],
   "source": [
    "#大きさが変わったことを確認\n",
    "print(resized_images.shape)"
   ]
  },
  {
   "cell_type": "code",
   "execution_count": 96,
   "metadata": {
    "collapsed": true
   },
   "outputs": [],
   "source": [
    "#labelのエンコードを行う。\n",
    "from sklearn import preprocessing\n",
    "le = preprocessing.LabelEncoder()\n",
    "le.fit(labels)\n",
    "labels = le.transform(labels)\n",
    "labels = labels.astype(np.int32)"
   ]
  },
  {
   "cell_type": "code",
   "execution_count": 97,
   "metadata": {},
   "outputs": [
    {
     "data": {
      "text/plain": [
       "(990,)"
      ]
     },
     "execution_count": 97,
     "metadata": {},
     "output_type": "execute_result"
    }
   ],
   "source": [
    "labels.shape"
   ]
  },
  {
   "cell_type": "code",
   "execution_count": 122,
   "metadata": {},
   "outputs": [],
   "source": [
    "#閾値を決めて、訓練用データと検証用データに分ける。\n",
    "threshold = 600\n",
    "train = tuple_dataset.TupleDataset(resized_images[0:threshold],labels[0:threshold])\n",
    "test = tuple_dataset.TupleDataset(resized_images[threshold:],labels[threshold:])"
   ]
  },
  {
   "cell_type": "code",
   "execution_count": 126,
   "metadata": {
    "collapsed": true
   },
   "outputs": [],
   "source": [
    "#4層のMLPクラスを作る。\n",
    "class CNN(chainer.Chain):\n",
    "    def __init__(self):\n",
    "        super().__init__()\n",
    "        with self.init_scope():\n",
    "            self.conv1 = L.Convolution2D(in_channels=1, out_channels=64, ksize=4, stride=1, pad=2)\n",
    "            self.conv2 = L.Convolution2D(in_channels=64, out_channels=128, ksize=4, stride=1, pad=2)\n",
    "            self.conv3 = L.Convolution2D(in_channels=None, out_channels=128, ksize=4, stride=1, pad=2) # in_channelをNoneで省略\n",
    "            self.fc4 = L.Linear(None, 512)\n",
    "            self.fc5 = L.Linear(None, 99) # out_channelはクラス数と同じ5に設定\n",
    "        \n",
    "        \n",
    "    def __call__(self, X):\n",
    "        h = F.relu(F.max_pooling_2d(self.conv1(X), ksize=2)) # conv1の畳み込みのあとにMaxPoolingを実行\n",
    "        h = F.relu(F.max_pooling_2d(self.conv2(h), ksize=2)) # conv2の畳み込みのあとにMaxPpoolingを実行\n",
    "        h = F.relu(F.max_pooling_2d(self.conv3(h), ksize=2)) # conv3の畳み込みのあとにMaxPoolingを実行\n",
    "        h = F.relu(self.fc4(h))\n",
    "        return self.fc5(h)\n",
    "\n",
    "       "
   ]
  },
  {
   "cell_type": "code",
   "execution_count": 127,
   "metadata": {},
   "outputs": [],
   "source": [
    "#model,optimizerの設定\n",
    "model = L.Classifier(CNN())\n",
    "from chainer import optimizers\n",
    "optimizer = optimizers.Adam()\n",
    "optimizer.setup(model)"
   ]
  },
  {
   "cell_type": "code",
   "execution_count": 128,
   "metadata": {
    "collapsed": true
   },
   "outputs": [],
   "source": [
    "batchsize = 99 #一回のバッチサイズ\n",
    "n_epoch = 20 #学習の繰り返し回数\n",
    "\n",
    "train_loss = []\n",
    "train_accuracy = []\n",
    "test_loss = []\n",
    "test_accuracy = []"
   ]
  },
  {
   "cell_type": "code",
   "execution_count": 129,
   "metadata": {
    "collapsed": true
   },
   "outputs": [],
   "source": [
    "#augumention\n",
    "def transform(inputs):\n",
    "    x , t = inputs\n",
    "    _, h, w = x.shape\n",
    "    #x_offset = np.random.randint(4)\n",
    "    #y_offset = np.random.randint(4)\n",
    "    #x = x[y_offset:y_offset + h -4, x_offset:x_offset + w -4]\n",
    "    if np.random.rand() > 0.5:\n",
    "        x = np.fliplr(x)\n",
    "        \n",
    "    return x, t"
   ]
  },
  {
   "cell_type": "code",
   "execution_count": 130,
   "metadata": {
    "collapsed": true
   },
   "outputs": [],
   "source": [
    "from chainer.datasets import tuple_dataset, TransformDataset\n",
    "from chainer.training import extensions\n",
    "from chainer import optimizers, serializers, training, iterators\n",
    "\n",
    "train = TransformDataset(train, transform)\n",
    "train_iter = iterators.SerialIterator(train,batch_size=batchsize,shuffle=True)\n",
    "\n",
    "updater = training.StandardUpdater(train_iter,optimizer)\n",
    "trainer = training.Trainer(updater,(n_epoch,'epoch'),out = 'result')"
   ]
  },
  {
   "cell_type": "code",
   "execution_count": 131,
   "metadata": {
    "collapsed": true
   },
   "outputs": [],
   "source": [
    "test = TransformDataset(test, transform)\n",
    "test_iter = iterators.SerialIterator(test,batch_size=batchsize,shuffle=False,repeat=False)\n",
    "trainer.extend(extensions.Evaluator(test_iter, model))\n",
    "trainer.extend(extensions.LogReport())\n",
    "trainer.extend(extensions.PrintReport(['epoch', 'main/accuracy', 'main/loss', 'validation/main/accuracy', 'validation/main/loss']))\n",
    "trainer.extend(extensions.ProgressBar())\n",
    "trainer.extend(extensions.PlotReport(['main/accuracy', 'validation/main/accuracy'],\n",
    "                          'epoch', file_name='accuracy.png'))\n",
    "trainer.extend(extensions.PlotReport(['main/loss', 'validation/main/loss'],\n",
    "                          'epoch', file_name='loss.png'))"
   ]
  },
  {
   "cell_type": "code",
   "execution_count": 132,
   "metadata": {},
   "outputs": [
    {
     "name": "stdout",
     "output_type": "stream",
     "text": [
      "epoch       main/accuracy  main/loss   validation/main/accuracy  validation/main/loss\n",
      "1           0.011544       120.043     0.0102639                 20.2618               \n",
      "2           0.016835       10.2751     0.0151515                 5.24532               \n",
      "3           0.0353535      4.73022     0.0516455                 4.59265               \n",
      "4           0.0808081      4.35142     0.0383675                 4.40176               \n",
      "5           0.117845       3.94369     0.100929                  4.05323               \n",
      "6           0.213805       3.366       0.123004                  3.58758               \n",
      "7           0.335017       2.63256     0.223281                  2.97987               \n",
      "8           0.410774       2.15976     0.289589                  2.5766                \n",
      "9           0.489899       1.77049     0.306533                  2.3408                \n",
      "10          0.563973       1.41176     0.335696                  2.33483               \n",
      "11          0.651515       1.26335     0.385142                  2.20704               \n",
      "12          0.654882       1.1191      0.442164                  1.99115               \n",
      "13          0.678451       1.00465     0.408684                  1.98851               \n",
      "14          0.767677       0.796468    0.44754                   1.99813               \n",
      "15          0.76936        0.787663    0.428071                  2.05899               \n",
      "16          0.804714       0.670728    0.492994                  1.88215               \n",
      "     total [#########################################.........] 82.50%\n",
      "this epoch [#########################.........................] 50.00%\n",
      "       100 iter, 16 epoch / 20 epochs\n",
      "       inf iters/sec. Estimated time to finish: 0:00:00.\n",
      "17          0.857143       0.517855    0.492343                  1.90072               \n",
      "18          0.873737       0.450013    0.513196                  1.85075               \n",
      "19          0.883838       0.390651    0.490143                  1.96201               \n",
      "20          0.912458       0.335278    0.523949                  1.8289                \n"
     ]
    }
   ],
   "source": [
    "trainer.run()"
   ]
  },
  {
   "cell_type": "code",
   "execution_count": 133,
   "metadata": {},
   "outputs": [
    {
     "data": {
      "image/png": "[encoded data removed]",
      "text/plain": [
       "<matplotlib.figure.Figure at 0x203a45dd470>"
      ]
     },
     "metadata": {},
     "output_type": "display_data"
    },
    {
     "data": {
      "image/png": "[encoded data removed]",
      "text/plain": [
       "<matplotlib.figure.Figure at 0x2039884a518>"
      ]
     },
     "metadata": {},
     "output_type": "display_data"
    }
   ],
   "source": [
    "from pylab import box\n",
    "def show_graph(src):\n",
    "    img =  plt.imread(src)\n",
    "    xpixels, ypixels = img.shape[0],img.shape[1]\n",
    "    dpi = 100\n",
    "    margin = 0.01\n",
    "    figsize = (1 + margin) * ypixels / dpi, (1 + margin) * xpixels / dpi\n",
    "\n",
    "    fig = plt.figure(figsize=figsize, dpi=dpi)\n",
    "    ax = fig.add_axes([margin, margin, 1 - 2*margin, 1 - 2*margin])\n",
    "    ax.tick_params(labelbottom=\"off\",bottom=\"off\")\n",
    "    ax.tick_params(labelleft=\"off\",left=\"off\")\n",
    "\n",
    "    ax.imshow(img, interpolation='none')\n",
    "    box(\"off\")\n",
    "    plt.show()\n",
    "#損失関数と精度の視覚化    \n",
    "show_graph('result/loss.png')\n",
    "show_graph('result/accuracy.png')"
   ]
  },
  {
   "cell_type": "code",
   "execution_count": 166,
   "metadata": {
    "collapsed": true
   },
   "outputs": [],
   "source": [
    "#modelの保存\n",
    "serializers.save_npz('my_model', model)"
   ]
  },
  {
   "cell_type": "code",
   "execution_count": 167,
   "metadata": {},
   "outputs": [],
   "source": [
    "#modelの読み込み\n",
    "serializers.load_npz('my_model', model)"
   ]
  },
  {
   "cell_type": "code",
   "execution_count": 177,
   "metadata": {
    "collapsed": true
   },
   "outputs": [],
   "source": [
    "#提出用の画像データの読み込み\n",
    "predict_images = []\n",
    "for i in test_.id:\n",
    "    image = cv2.imread('images3/%d.jpg' % i)\n",
    "    grayed = cv2.cvtColor(image, cv2.COLOR_BGR2GRAY)\n",
    "    predict_images.append(grayed)\n",
    "    "
   ]
  },
  {
   "cell_type": "code",
   "execution_count": 180,
   "metadata": {},
   "outputs": [
    {
     "data": {
      "text/plain": [
       "(594, 1, 32, 32)"
      ]
     },
     "execution_count": 180,
     "metadata": {},
     "output_type": "execute_result"
    }
   ],
   "source": [
    "#大きさを自分が作ったCNNにあわせる\n",
    "predict_images = np.array([predict_images])\n",
    "predict_images = predict_images.reshape((594, 1, 32, 32))\n",
    "predict_images.shape"
   ]
  },
  {
   "cell_type": "code",
   "execution_count": 181,
   "metadata": {
    "collapsed": true
   },
   "outputs": [],
   "source": [
    "#chainerが扱える形に変換\n",
    "predict_images = predict_images.astype(np.float32)"
   ]
  },
  {
   "cell_type": "code",
   "execution_count": 182,
   "metadata": {
    "collapsed": true
   },
   "outputs": [],
   "source": [
    "predict_label = []\n",
    "#予測する関数\n",
    "def predict(model, X):\n",
    "    # データ数が1の場合は、バッチサイズ分の次元を追加\n",
    "    if len(X.shape) == 1:  \n",
    "        pred = model.predictor(X[None, ...]).data.argmax()\n",
    "    # データ数が2以上の場合はそのまま\n",
    "    else:  \n",
    "        pred = model.predictor(X).data.argmax(axis=1)\n",
    "    return pred\n",
    "\n",
    "pred = predict(model, predict_images)"
   ]
  },
  {
   "cell_type": "code",
   "execution_count": 186,
   "metadata": {},
   "outputs": [
    {
     "name": "stderr",
     "output_type": "stream",
     "text": [
      "C:\\Users\\falcon4842\\Anaconda3\\lib\\site-packages\\sklearn\\preprocessing\\label.py:151: DeprecationWarning: The truth value of an empty array is ambiguous. Returning False, but in future this will result in an error. Use `array.size > 0` to check that an array is not empty.\n",
      "  if diff:\n"
     ]
    },
    {
     "data": {
      "text/plain": [
       "array(['Quercus_Agrifolia', 'Quercus_Variabilis', 'Quercus_Ellipsoidalis',\n",
       "       'Quercus_x_Hispanica', 'Quercus_Semecarpifolia', 'Acer_Rubrum',\n",
       "       'Acer_Platanoids', 'Eucalyptus_Glaucescens', 'Quercus_Variabilis',\n",
       "       'Acer_Rufinerve', 'Eucalyptus_Neglecta', 'Magnolia_Salicifolia',\n",
       "       'Quercus_Pubescens', 'Quercus_Alnifolia', 'Quercus_Agrifolia',\n",
       "       'Populus_Nigra', 'Alnus_Viridis', 'Quercus_Trojana',\n",
       "       'Quercus_Brantii', 'Quercus_Palustris', 'Quercus_Crassipes',\n",
       "       'Quercus_Chrysolepis', 'Eucalyptus_Neglecta',\n",
       "       'Eucalyptus_Neglecta', 'Acer_Circinatum', 'Quercus_x_Turneri',\n",
       "       'Eucalyptus_Glaucescens', 'Arundinaria_Simonii',\n",
       "       'Liquidambar_Styraciflua', 'Quercus_Nigra', 'Quercus_Variabilis',\n",
       "       'Quercus_Pontica', 'Quercus_x_Turneri', 'Alnus_Sieboldiana',\n",
       "       'Acer_Saccharinum', 'Liriodendron_Tulipifera', 'Alnus_Cordata',\n",
       "       'Quercus_Imbricaria', 'Liriodendron_Tulipifera',\n",
       "       'Tilia_Platyphyllos', 'Acer_Rufinerve', 'Ginkgo_Biloba',\n",
       "       'Acer_Rufinerve', 'Quercus_Coccinea', 'Quercus_Palustris',\n",
       "       'Quercus_Nigra', 'Lithocarpus_Edulis', 'Cornus_Controversa',\n",
       "       'Tilia_Tomentosa', 'Rhododendron_x_Russellianum', 'Betula_Pendula',\n",
       "       'Acer_Pictum', 'Quercus_Castaneifolia', 'Tilia_Tomentosa',\n",
       "       'Sorbus_Aria', 'Quercus_x_Hispanica', 'Quercus_Trojana',\n",
       "       'Ilex_Aquifolium', 'Quercus_Agrifolia', 'Zelkova_Serrata',\n",
       "       'Rhododendron_x_Russellianum', 'Quercus_Pyrenaica',\n",
       "       'Cercis_Siliquastrum', 'Quercus_Coccinea', 'Quercus_Hartwissiana',\n",
       "       'Quercus_Hartwissiana', 'Cornus_Controversa', 'Acer_Pictum',\n",
       "       'Alnus_Sieboldiana', 'Acer_Palmatum', 'Quercus_Variabilis',\n",
       "       'Quercus_Imbricaria', 'Quercus_Castaneifolia', 'Acer_Rubrum',\n",
       "       'Fagus_Sylvatica', 'Lithocarpus_Edulis', 'Tilia_Tomentosa',\n",
       "       'Quercus_Variabilis', 'Cotinus_Coggygria', 'Alnus_Cordata',\n",
       "       'Quercus_Crassipes', 'Quercus_Pontica', 'Quercus_Pyrenaica',\n",
       "       'Quercus_Variabilis', 'Acer_Circinatum', 'Quercus_Pontica',\n",
       "       'Magnolia_Heptapeta', 'Quercus_Trojana', 'Cornus_Macrophylla',\n",
       "       'Cornus_Macrophylla', 'Ulmus_Bergmanniana',\n",
       "       'Pterocarya_Stenoptera', 'Cotinus_Coggygria',\n",
       "       'Cercis_Siliquastrum', 'Lithocarpus_Cleistocarpus',\n",
       "       'Quercus_Cerris', 'Morus_Nigra', 'Ulmus_Bergmanniana',\n",
       "       'Populus_Nigra', 'Eucalyptus_Glaucescens', 'Zelkova_Serrata',\n",
       "       'Quercus_Imbricaria', 'Acer_Opalus', 'Alnus_Rubra',\n",
       "       'Magnolia_Heptapeta', 'Quercus_Variabilis', 'Quercus_Variabilis',\n",
       "       'Quercus_Coccifera', 'Quercus_Greggii',\n",
       "       'Rhododendron_x_Russellianum', 'Tilia_Platyphyllos',\n",
       "       'Tilia_Tomentosa', 'Lithocarpus_Cleistocarpus',\n",
       "       'Eucalyptus_Neglecta', 'Acer_Rufinerve',\n",
       "       'Rhododendron_x_Russellianum', 'Celtis_Koraiensis',\n",
       "       'Quercus_x_Turneri', 'Acer_Platanoids', 'Quercus_Chrysolepis',\n",
       "       'Quercus_Dolicholepis', 'Salix_Intergra', 'Quercus_Pontica',\n",
       "       'Betula_Pendula', 'Quercus_Coccifera', 'Cytisus_Battandieri',\n",
       "       'Quercus_Agrifolia', 'Quercus_Pontica', 'Magnolia_Heptapeta',\n",
       "       'Cornus_Macrophylla', 'Fagus_Sylvatica', 'Acer_Mono',\n",
       "       'Tilia_Platyphyllos', 'Quercus_Crassipes', 'Cornus_Macrophylla',\n",
       "       'Viburnum_x_Rhytidophylloides', 'Eucalyptus_Neglecta',\n",
       "       'Eucalyptus_Glaucescens', 'Quercus_Canariensis', 'Quercus_Trojana',\n",
       "       'Olea_Europaea', 'Sorbus_Aria', 'Quercus_Kewensis',\n",
       "       'Quercus_Greggii', 'Quercus_Crassifolia', 'Alnus_Viridis',\n",
       "       'Ulmus_Bergmanniana', 'Quercus_Greggii', 'Quercus_Crassipes',\n",
       "       'Quercus_Coccifera', 'Cornus_Macrophylla', 'Magnolia_Heptapeta',\n",
       "       'Quercus_Coccinea', 'Liquidambar_Styraciflua',\n",
       "       'Quercus_Chrysolepis', 'Acer_Circinatum', 'Crataegus_Monogyna',\n",
       "       'Lithocarpus_Edulis', 'Cornus_Controversa', 'Quercus_Pubescens',\n",
       "       'Celtis_Koraiensis', 'Cornus_Macrophylla', 'Populus_Nigra',\n",
       "       'Quercus_Agrifolia', 'Phildelphus', 'Quercus_Semecarpifolia',\n",
       "       'Quercus_Chrysolepis', 'Quercus_Variabilis',\n",
       "       'Quercus_Hartwissiana', 'Viburnum_x_Rhytidophylloides',\n",
       "       'Quercus_Pubescens', 'Cercis_Siliquastrum',\n",
       "       'Pterocarya_Stenoptera', 'Cercis_Siliquastrum', 'Acer_Capillipes',\n",
       "       'Alnus_Cordata', 'Quercus_Suber', 'Tilia_Tomentosa',\n",
       "       'Quercus_Trojana', 'Lithocarpus_Cleistocarpus',\n",
       "       'Arundinaria_Simonii', 'Populus_Grandidentata', 'Salix_Fragilis',\n",
       "       'Quercus_Variabilis', 'Cornus_Macrophylla',\n",
       "       'Liquidambar_Styraciflua', 'Cornus_Controversa', 'Tilia_Tomentosa',\n",
       "       'Cornus_Chinensis', 'Quercus_Chrysolepis', 'Salix_Fragilis',\n",
       "       'Quercus_Phellos', 'Liriodendron_Tulipifera', 'Alnus_Maximowiczii',\n",
       "       'Quercus_Trojana', 'Ulmus_Bergmanniana', 'Callicarpa_Bodinieri',\n",
       "       'Alnus_Cordata', 'Quercus_Variabilis', 'Quercus_Greggii',\n",
       "       'Quercus_Texana', 'Acer_Platanoids', 'Quercus_Ellipsoidalis',\n",
       "       'Alnus_Viridis', 'Eucalyptus_Glaucescens', 'Acer_Rubrum',\n",
       "       'Quercus_Ellipsoidalis', 'Pterocarya_Stenoptera',\n",
       "       'Populus_Adenopoda', 'Salix_Fragilis', 'Tilia_Oliveri',\n",
       "       'Quercus_Brantii', 'Acer_Mono', 'Quercus_Coccinea',\n",
       "       'Acer_Capillipes', 'Viburnum_Tinus', 'Salix_Intergra',\n",
       "       'Ginkgo_Biloba', 'Quercus_Imbricaria', 'Quercus_Pyrenaica',\n",
       "       'Quercus_Agrifolia', 'Quercus_Castaneifolia', 'Populus_Adenopoda',\n",
       "       'Eucalyptus_Neglecta', 'Acer_Pictum', 'Cornus_Chinensis',\n",
       "       'Rhododendron_x_Russellianum', 'Quercus_Coccifera',\n",
       "       'Tilia_Tomentosa', 'Quercus_Imbricaria', 'Tilia_Oliveri',\n",
       "       'Quercus_Cerris', 'Quercus_Rhysophylla', 'Quercus_Semecarpifolia',\n",
       "       'Cotinus_Coggygria', 'Lithocarpus_Cleistocarpus',\n",
       "       'Callicarpa_Bodinieri', 'Betula_Austrosinensis', 'Quercus_Texana',\n",
       "       'Viburnum_Tinus', 'Quercus_Nigra', 'Quercus_Palustris',\n",
       "       'Populus_Adenopoda', 'Quercus_x_Turneri', 'Acer_Pictum',\n",
       "       'Salix_Intergra', 'Betula_Austrosinensis', 'Quercus_Coccinea',\n",
       "       'Quercus_Dolicholepis', 'Quercus_Brantii', 'Betula_Pendula',\n",
       "       'Ilex_Cornuta', 'Cornus_Macrophylla', 'Ilex_Aquifolium',\n",
       "       'Quercus_Infectoria_sub', 'Quercus_Greggii', 'Crataegus_Monogyna',\n",
       "       'Quercus_Brantii', 'Quercus_Imbricaria', 'Quercus_Phillyraeoides',\n",
       "       'Crataegus_Monogyna', 'Acer_Opalus', 'Viburnum_Tinus',\n",
       "       'Tilia_Tomentosa', 'Quercus_Afares', 'Populus_Nigra',\n",
       "       'Betula_Pendula', 'Cornus_Macrophylla', 'Quercus_Agrifolia',\n",
       "       'Quercus_Palustris', 'Quercus_Agrifolia', 'Quercus_Rubra',\n",
       "       'Liriodendron_Tulipifera', 'Alnus_Viridis', 'Quercus_Trojana',\n",
       "       'Cotinus_Coggygria', 'Castanea_Sativa', 'Quercus_Variabilis',\n",
       "       'Celtis_Koraiensis', 'Quercus_Castaneifolia', 'Quercus_Pyrenaica',\n",
       "       'Quercus_Kewensis', 'Quercus_Imbricaria',\n",
       "       'Viburnum_x_Rhytidophylloides', 'Quercus_Shumardii',\n",
       "       'Populus_Adenopoda', 'Tilia_Oliveri', 'Quercus_Infectoria_sub',\n",
       "       'Cornus_Controversa', 'Cercis_Siliquastrum', 'Cornus_Macrophylla',\n",
       "       'Quercus_Agrifolia', 'Cornus_Chinensis', 'Quercus_Imbricaria',\n",
       "       'Acer_Capillipes', 'Magnolia_Heptapeta', 'Ilex_Aquifolium',\n",
       "       'Acer_Circinatum', 'Quercus_Alnifolia', 'Magnolia_Heptapeta',\n",
       "       'Cornus_Macrophylla', 'Alnus_Rubra', 'Olea_Europaea',\n",
       "       'Betula_Pendula', 'Acer_Platanoids', 'Quercus_Phillyraeoides',\n",
       "       'Viburnum_Tinus', 'Quercus_Trojana', 'Eucalyptus_Neglecta',\n",
       "       'Acer_Saccharinum', 'Crataegus_Monogyna', 'Quercus_Brantii',\n",
       "       'Betula_Austrosinensis', 'Zelkova_Serrata', 'Quercus_Kewensis',\n",
       "       'Ulmus_Bergmanniana', 'Acer_Rubrum', 'Liquidambar_Styraciflua',\n",
       "       'Quercus_Phillyraeoides', 'Quercus_Afares', 'Quercus_Coccinea',\n",
       "       'Quercus_Trojana', 'Acer_Capillipes', 'Quercus_Afares',\n",
       "       'Quercus_Dolicholepis', 'Zelkova_Serrata', 'Tilia_Platyphyllos',\n",
       "       'Quercus_Infectoria_sub', 'Quercus_Kewensis', 'Populus_Nigra',\n",
       "       'Eucalyptus_Neglecta', 'Populus_Grandidentata', 'Tilia_Tomentosa',\n",
       "       'Callicarpa_Bodinieri', 'Acer_Capillipes', 'Ilex_Aquifolium',\n",
       "       'Quercus_Phellos', 'Quercus_Pontica', 'Quercus_Dolicholepis',\n",
       "       'Cornus_Macrophylla', 'Olea_Europaea', 'Acer_Platanoids',\n",
       "       'Magnolia_Heptapeta', 'Quercus_Agrifolia',\n",
       "       'Quercus_Phillyraeoides', 'Quercus_Suber', 'Alnus_Cordata',\n",
       "       'Quercus_Vulcanica', 'Quercus_Variabilis', 'Acer_Platanoids',\n",
       "       'Alnus_Cordata', 'Acer_Mono', 'Ulmus_Bergmanniana',\n",
       "       'Liquidambar_Styraciflua', 'Cornus_Macrophylla', 'Acer_Platanoids',\n",
       "       'Quercus_Shumardii', 'Acer_Circinatum', 'Quercus_Texana',\n",
       "       'Acer_Pictum', 'Quercus_Crassipes', 'Eucalyptus_Neglecta',\n",
       "       'Cornus_Macrophylla', 'Ilex_Aquifolium', 'Quercus_Variabilis',\n",
       "       'Quercus_Cerris', 'Quercus_Palustris', 'Populus_Grandidentata',\n",
       "       'Quercus_Coccinea', 'Olea_Europaea', 'Quercus_Ilex',\n",
       "       'Quercus_Imbricaria', 'Lithocarpus_Edulis', 'Quercus_Greggii',\n",
       "       'Salix_Intergra', 'Quercus_Agrifolia', 'Quercus_Shumardii',\n",
       "       'Magnolia_Heptapeta', 'Quercus_Semecarpifolia', 'Quercus_Cerris',\n",
       "       'Quercus_Pyrenaica', 'Eucalyptus_Neglecta', 'Cornus_Controversa',\n",
       "       'Cornus_Controversa', 'Cornus_Chinensis', 'Arundinaria_Simonii',\n",
       "       'Fagus_Sylvatica', 'Pterocarya_Stenoptera', 'Salix_Fragilis',\n",
       "       'Populus_Adenopoda', 'Acer_Rubrum', 'Liquidambar_Styraciflua',\n",
       "       'Alnus_Sieboldiana', 'Quercus_Imbricaria', 'Cornus_Controversa',\n",
       "       'Quercus_Coccifera', 'Populus_Adenopoda', 'Ginkgo_Biloba',\n",
       "       'Alnus_Sieboldiana', 'Liriodendron_Tulipifera',\n",
       "       'Quercus_Palustris', 'Eucalyptus_Glaucescens',\n",
       "       'Magnolia_Heptapeta', 'Quercus_Crassipes', 'Quercus_Chrysolepis',\n",
       "       'Quercus_Texana', 'Ilex_Cornuta', 'Rhododendron_x_Russellianum',\n",
       "       'Phildelphus', 'Tilia_Oliveri', 'Quercus_Phellos',\n",
       "       'Acer_Capillipes', 'Lithocarpus_Cleistocarpus', 'Quercus_Texana',\n",
       "       'Quercus_x_Turneri', 'Quercus_Agrifolia', 'Quercus_Palustris',\n",
       "       'Magnolia_Heptapeta', 'Lithocarpus_Cleistocarpus', 'Ginkgo_Biloba',\n",
       "       'Quercus_Ilex', 'Liriodendron_Tulipifera', 'Morus_Nigra',\n",
       "       'Fagus_Sylvatica', 'Quercus_Shumardii', 'Acer_Palmatum',\n",
       "       'Quercus_Ellipsoidalis', 'Quercus_Infectoria_sub',\n",
       "       'Quercus_Dolicholepis', 'Cornus_Controversa',\n",
       "       'Quercus_Castaneifolia', 'Quercus_Dolicholepis',\n",
       "       'Magnolia_Heptapeta', 'Quercus_Kewensis', 'Quercus_Phillyraeoides',\n",
       "       'Quercus_Pyrenaica', 'Quercus_Variabilis', 'Acer_Rubrum',\n",
       "       'Quercus_Imbricaria', 'Eucalyptus_Neglecta', 'Acer_Rufinerve',\n",
       "       'Ulmus_Bergmanniana', 'Quercus_Vulcanica', 'Quercus_Coccifera',\n",
       "       'Sorbus_Aria', 'Ilex_Aquifolium', 'Tilia_Platyphyllos',\n",
       "       'Ginkgo_Biloba', 'Betula_Pendula', 'Quercus_x_Hispanica',\n",
       "       'Tilia_Tomentosa', 'Betula_Pendula', 'Acer_Rubrum',\n",
       "       'Pterocarya_Stenoptera', 'Prunus_Avium', 'Quercus_Pyrenaica',\n",
       "       'Acer_Circinatum', 'Populus_Adenopoda', 'Crataegus_Monogyna',\n",
       "       'Pterocarya_Stenoptera', 'Quercus_Palustris', 'Populus_Nigra',\n",
       "       'Quercus_Afares', 'Quercus_Ilex', 'Quercus_x_Turneri',\n",
       "       'Quercus_Pubescens', 'Lithocarpus_Cleistocarpus', 'Acer_Opalus',\n",
       "       'Quercus_Greggii', 'Ilex_Aquifolium', 'Quercus_Rubra',\n",
       "       'Quercus_Coccinea', 'Quercus_Cerris', 'Cercis_Siliquastrum',\n",
       "       'Quercus_Crassipes', 'Rhododendron_x_Russellianum',\n",
       "       'Quercus_Dolicholepis', 'Alnus_Rubra', 'Quercus_Coccinea',\n",
       "       'Quercus_Alnifolia', 'Quercus_Crassifolia', 'Arundinaria_Simonii',\n",
       "       'Quercus_Pyrenaica', 'Acer_Rufinerve', 'Quercus_Ilex',\n",
       "       'Quercus_Chrysolepis', 'Quercus_Trojana', 'Quercus_Coccinea',\n",
       "       'Quercus_Phellos', 'Quercus_Coccifera', 'Quercus_Variabilis',\n",
       "       'Populus_Nigra', 'Quercus_Variabilis', 'Quercus_Ilex',\n",
       "       'Quercus_Chrysolepis', 'Olea_Europaea', 'Quercus_Pubescens',\n",
       "       'Liquidambar_Styraciflua', 'Callicarpa_Bodinieri',\n",
       "       'Acer_Circinatum', 'Quercus_Variabilis', 'Quercus_Semecarpifolia',\n",
       "       'Viburnum_x_Rhytidophylloides', 'Lithocarpus_Cleistocarpus',\n",
       "       'Arundinaria_Simonii', 'Alnus_Cordata', 'Prunus_X_Shmittii',\n",
       "       'Quercus_Palustris', 'Quercus_Canariensis', 'Cornus_Macrophylla',\n",
       "       'Magnolia_Heptapeta', 'Lithocarpus_Edulis', 'Cornus_Macrophylla',\n",
       "       'Lithocarpus_Cleistocarpus', 'Alnus_Viridis', 'Quercus_Brantii',\n",
       "       'Acer_Platanoids', 'Magnolia_Salicifolia', 'Olea_Europaea',\n",
       "       'Quercus_Trojana', 'Quercus_Coccinea',\n",
       "       'Rhododendron_x_Russellianum', 'Alnus_Maximowiczii',\n",
       "       'Eucalyptus_Glaucescens', 'Fagus_Sylvatica', 'Cornus_Macrophylla',\n",
       "       'Cotinus_Coggygria', 'Quercus_Phillyraeoides', 'Quercus_Coccifera',\n",
       "       'Quercus_Infectoria_sub', 'Quercus_Chrysolepis',\n",
       "       'Viburnum_x_Rhytidophylloides', 'Acer_Rufinerve',\n",
       "       'Quercus_Crassifolia', 'Quercus_Pyrenaica', 'Quercus_Suber',\n",
       "       'Quercus_Variabilis', 'Eucalyptus_Glaucescens',\n",
       "       'Eucalyptus_Urnigera', 'Acer_Capillipes', 'Eucalyptus_Glaucescens',\n",
       "       'Morus_Nigra', 'Quercus_Agrifolia', 'Alnus_Cordata',\n",
       "       'Ilex_Aquifolium', 'Quercus_Imbricaria', 'Populus_Grandidentata',\n",
       "       'Acer_Palmatum', 'Acer_Palmatum', 'Quercus_Variabilis',\n",
       "       'Quercus_Infectoria_sub', 'Quercus_x_Hispanica', 'Viburnum_Tinus',\n",
       "       'Eucalyptus_Urnigera', 'Quercus_Variabilis', 'Zelkova_Serrata',\n",
       "       'Liquidambar_Styraciflua', 'Eucalyptus_Neglecta',\n",
       "       'Rhododendron_x_Russellianum', 'Quercus_x_Hispanica',\n",
       "       'Quercus_Crassifolia', 'Lithocarpus_Cleistocarpus',\n",
       "       'Cornus_Macrophylla', 'Quercus_Infectoria_sub',\n",
       "       'Crataegus_Monogyna', 'Liriodendron_Tulipifera',\n",
       "       'Betula_Austrosinensis', 'Quercus_Coccifera',\n",
       "       'Lithocarpus_Cleistocarpus', 'Populus_Nigra', 'Tilia_Platyphyllos',\n",
       "       'Quercus_Shumardii', 'Lithocarpus_Cleistocarpus', 'Populus_Nigra',\n",
       "       'Cotinus_Coggygria', 'Quercus_Infectoria_sub', 'Acer_Rubrum',\n",
       "       'Lithocarpus_Cleistocarpus', 'Tilia_Platyphyllos',\n",
       "       'Acer_Capillipes', 'Celtis_Koraiensis', 'Quercus_Pontica',\n",
       "       'Alnus_Cordata', 'Quercus_Semecarpifolia', 'Cornus_Macrophylla',\n",
       "       'Quercus_Alnifolia', 'Quercus_Brantii', 'Quercus_Kewensis',\n",
       "       'Quercus_Phillyraeoides', 'Acer_Circinatum', 'Alnus_Rubra',\n",
       "       'Quercus_Crassifolia', 'Quercus_Trojana', 'Arundinaria_Simonii'],\n",
       "      dtype=object)"
      ]
     },
     "execution_count": 186,
     "metadata": {},
     "output_type": "execute_result"
    }
   ],
   "source": [
    "#得られたラベルを元のspeciesに戻す。\n",
    "predic_label = le.inverse_transform(pred)\n",
    "predic_label"
   ]
  },
  {
   "cell_type": "code",
   "execution_count": 197,
   "metadata": {},
   "outputs": [],
   "source": [
    "df_test_id = pd.DataFrame(test_.id, columns=['id'])\n",
    "df_test_pred = pd.DataFrame(predic_label, columns=['species'])\n",
    "#kaggleの評価は、それぞれのspeciesでの確率なのでダミー変数化しておく。0か1で確率表現ができる。\n",
    "df_test_pred_dummy = pd.get_dummies(df_test_pred['species'])\n",
    "df_submit = pd.concat([df_test_id, df_test_pred_dummy], axis=1)\n",
    "df_submit.to_csv('leaf_classification.csv', index=False)"
   ]
  }
 ],
 "metadata": {
  "kernelspec": {
   "display_name": "Python 3",
   "language": "python",
   "name": "python3"
  },
  "language_info": {
   "codemirror_mode": {
    "name": "ipython",
    "version": 3
   },
   "file_extension": ".py",
   "mimetype": "text/x-python",
   "name": "python",
   "nbconvert_exporter": "python",
   "pygments_lexer": "ipython3",
   "version": "3.6.3"
  }
 },
 "nbformat": 4,
 "nbformat_minor": 2
}
